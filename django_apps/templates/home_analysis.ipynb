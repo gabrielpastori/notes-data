{
 "cells": [
  {
   "cell_type": "markdown",
   "id": "0e54b7bf-09be-49a0-bcf1-34fb6b5e57c1",
   "metadata": {},
   "source": [
    "# StoreNotes"
   ]
  },
  {
   "cell_type": "markdown",
   "id": "7a264c51-37d4-444d-95db-a93c33f8e111",
   "metadata": {},
   "source": [
    "Para essa etapa do trabalho, como não possuímos dados reais, definimos as disciplinas e coletamos, a partir delas, os titulos das notas e os textos referentes a cada uma das notas por meio do scrapping de dados da Wikipédia.<br/>\n",
    "Os dados ficaram estruturados da seguinte forma:"
   ]
  },
  {
   "cell_type": "markdown",
   "id": "b63cf536-5367-4e7d-a4ba-80e6b28477ca",
   "metadata": {},
   "source": [
    "![schema](https://i.imgur.com/dZUk7OG.png)"
   ]
  },
  {
   "cell_type": "markdown",
   "id": "a8688c81-864b-48ce-9da5-fc6149da2606",
   "metadata": {},
   "source": [
    "Os atributos que não nome, titulo e texto foram gerados com auxílio da biblioteca random e faker do Python. <br />\n",
    "A partir disso, utilizamos a biblioteca pymysql para estabelecer uma conexão com o banco e assim inserir os dados.\n",
    "Os algoritmos necessários para a leitura dos dados do scrapping, geração de valores randômicos, criação do schema, inserção de dados no banco e o Dump do banco com os dados que fizemos as análises podem ser encontrados nesse [repositório](https://github.com/gabrielpastori/notes-data)."
   ]
  },
  {
   "cell_type": "markdown",
   "id": "a2428440-b77b-4098-a36a-c8deb4e3d2a7",
   "metadata": {},
   "source": [
    "# Os dados utilizados"
   ]
  },
  {
   "cell_type": "markdown",
   "id": "36cb681e-abfc-4d9a-8f88-f8cf3d65fac4",
   "metadata": {},
   "source": [
    "Os dados das notas são os seguintes:"
   ]
  },
  {
   "cell_type": "markdown",
   "id": "a4ec6655-a929-4b52-af8a-709fc815be2c",
   "metadata": {},
   "source": [
    "![notes data](https://i.imgur.com/V1UGZrf.png)"
   ]
  },
  {
   "cell_type": "markdown",
   "id": "8f91f0eb-133a-47b7-8a49-7cf63824efe9",
   "metadata": {},
   "source": [
    "Os dados das disciplinas são os seguintes:"
   ]
  },
  {
   "cell_type": "markdown",
   "id": "691ebda4-da85-4535-adf5-a38e21a516d1",
   "metadata": {},
   "source": [
    "![disciplines data](https://i.imgur.com/SNemHwl.png)"
   ]
  },
  {
   "cell_type": "markdown",
   "id": "f0556aa0-520a-4868-a817-62af60911cf6",
   "metadata": {},
   "source": [
    "O agrupamento dessas duas tabelas:"
   ]
  },
  {
   "cell_type": "markdown",
   "id": "3084177e-5ec4-4512-9dfd-e8cbb9ec4d11",
   "metadata": {},
   "source": [
    "![merge](https://i.imgur.com/ie1o5lZ.png)"
   ]
  },
  {
   "cell_type": "markdown",
   "id": "aada1bb3-59f7-4153-9f7b-fa1f2166d560",
   "metadata": {},
   "source": [
    "# Análise de dados"
   ]
  },
  {
   "cell_type": "markdown",
   "id": "edccd503-e38d-4d3b-8bfa-882ff118fd1d",
   "metadata": {},
   "source": [
    "A partir desses dados fizemos algumas perguntas de negócio que foram respondidas nos seguintes notebooks:"
   ]
  },
  {
   "cell_type": "markdown",
   "id": "75cd070e-e3de-43b0-b30e-73ecc2ca3465",
   "metadata": {},
   "source": [
    "<ul>\n",
    "    <li></li>\n",
    "    <li></li>\n",
    "    <li>Quantidade de palavras por disciplina</li>\n",
    "    <li>Em qual horário mais notas são criadas? (Extra: Em qual dia da semana?)</li>\n",
    "<ul>"
   ]
  }
 ],
 "metadata": {
  "kernelspec": {
   "display_name": "Python 3 (ipykernel)",
   "language": "python",
   "name": "python3"
  },
  "language_info": {
   "codemirror_mode": {
    "name": "ipython",
    "version": 3
   },
   "file_extension": ".py",
   "mimetype": "text/x-python",
   "name": "python",
   "nbconvert_exporter": "python",
   "pygments_lexer": "ipython3",
   "version": "3.8.10"
  }
 },
 "nbformat": 4,
 "nbformat_minor": 5
}
